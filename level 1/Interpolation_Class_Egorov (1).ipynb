{
 "cells": [
  {
   "cell_type": "code",
   "execution_count": 141,
   "metadata": {},
   "outputs": [],
   "source": [
    "x = [1, 2, 3,7,11,12,13]\n",
    "y = [5, 10, 3, 4,0,11,10]"
   ]
  },
  {
   "cell_type": "code",
   "execution_count": 142,
   "metadata": {},
   "outputs": [],
   "source": [
    "from bisect import bisect_right\n",
    "\n",
    "class Interpolate:\n",
    "    def __init__(self, x_list, y_list):\n",
    "        if any(x_next_step - x <= 0 for x, x_next_step in zip(x_list, x_list[1:])):\n",
    "            raise ValueError(\"x_list must be in ascending order!\")\n",
    "        self.x_list = x_list\n",
    "        self.y_list = y_list\n",
    "        intervals = zip(x_list, x_list[1:], y_list, y_list[1:])\n",
    "        self.slopes = [(y2 - y1) / (x2 - x1) for x1, x2, y1, y2 in intervals]\n",
    "        \n",
    "    @staticmethod\n",
    "    def indexation(x_list, x, start=0):\n",
    "        finish=len(x_list)\n",
    "        while start < finish:\n",
    "            middle = (start + finish) // 2\n",
    "            if x < x_list[middle]: finish = middle\n",
    "            else: start=middle+1\n",
    "        return start\n",
    "    \n",
    "    def __call__(self, x):\n",
    "        if not (self.x_list[0] <= x <= self.x_list[-1]):\n",
    "            raise ValueError(\"x out of bounds!\")\n",
    "        if x == self.x_list[-1]:\n",
    "            return self.y_list[-1]\n",
    "        i = Interpolate.indexation(self.x_list, x) - 1\n",
    "        return self.y_list[i] + self.slopes[i] * (x - self.x_list[i])"
   ]
  },
  {
   "cell_type": "code",
   "execution_count": 143,
   "metadata": {},
   "outputs": [
    {
     "name": "stdout",
     "output_type": "stream",
     "text": [
      "6.5\n"
     ]
    }
   ],
   "source": [
    "f=Interpolate(x,y)\n",
    "print(f(2.5))"
   ]
  },
  {
   "cell_type": "code",
   "execution_count": null,
   "metadata": {},
   "outputs": [],
   "source": []
  }
 ],
 "metadata": {
  "kernelspec": {
   "display_name": "Python 3",
   "language": "python",
   "name": "python3"
  },
  "language_info": {
   "codemirror_mode": {
    "name": "ipython",
    "version": 3
   },
   "file_extension": ".py",
   "mimetype": "text/x-python",
   "name": "python",
   "nbconvert_exporter": "python",
   "pygments_lexer": "ipython3",
   "version": "3.8.3"
  }
 },
 "nbformat": 4,
 "nbformat_minor": 4
}
