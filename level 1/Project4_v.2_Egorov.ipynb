{
 "cells": [
  {
   "cell_type": "markdown",
   "id": "32328054",
   "metadata": {},
   "source": [
    "Для корректной работы ноутбука нужна версия питона 3.8+ и необходимо прописать путь к таблице с данными по коронавирусу. Везде в работе используется 1% уровень значимости и в дальнейшем не указывается."
   ]
  },
  {
   "cell_type": "markdown",
   "id": "2b28c294",
   "metadata": {},
   "source": [
    " # Сгенерированные данные"
   ]
  },
  {
   "cell_type": "code",
   "execution_count": 193,
   "id": "27b80554",
   "metadata": {},
   "outputs": [],
   "source": [
    "import random \n",
    "import statistics \n",
    "import numpy as np\n",
    "import pandas as pd\n",
    "from scipy.stats import moment, skew, kurtosis\n",
    "from scipy import stats\n",
    "import matplotlib.pyplot as plt\n",
    "import pylab "
   ]
  },
  {
   "cell_type": "code",
   "execution_count": 108,
   "id": "234532b2",
   "metadata": {},
   "outputs": [],
   "source": [
    "# Кол-во сгенерированных чисел \n",
    "t = 500\n",
    "# Показатель бетта для показательного (экспоненциального)\n",
    "beta = 2\n",
    "# Показатель формы для гамма распределения \n",
    "shape = 3\n",
    "# Кол-во степеней свободы для распределения стьюдента\n",
    "df = 10\n",
    "# Параметр для распределения Бернулли и для геометрического распределения\n",
    "p = 0.5\n",
    "# Показатель лямбда для распределения Пуассона\n",
    "lam = 5"
   ]
  },
  {
   "cell_type": "code",
   "execution_count": 109,
   "id": "22473ea6",
   "metadata": {},
   "outputs": [],
   "source": [
    "uniform = np.random.uniform(low=0, high=1, size=t)\n",
    "\n",
    "normal = np.random.normal(loc=0, scale=1, size=t)\n",
    "\n",
    "exponential = np.random.exponential(scale=beta, size=t)\n",
    "\n",
    "gamma = np.random.gamma(shape=shape, scale=1, size=t)\n",
    "\n",
    "student = np.random.standard_t(df=df, size=t)\n",
    "\n",
    "bernouli = np.random.binomial(n=1, p=p, size=t)\n",
    "\n",
    "poisson = np.random.poisson(lam=lam, size=t)\n",
    "\n",
    "geometric = np.random.geometric(p=p, size=t)"
   ]
  },
  {
   "cell_type": "code",
   "execution_count": 115,
   "id": "724dd633",
   "metadata": {},
   "outputs": [],
   "source": [
    "dist_names = ['Равномерное', \n",
    "        'Нормальное', \n",
    "        'Показательное', \n",
    "        'Гамма', \n",
    "        'Стьюдента', \n",
    "        'Бернулли', \n",
    "        'Пуассона', \n",
    "        'Геометрическое']\n",
    "\n",
    "distributions = [uniform, \n",
    "                 normal, \n",
    "                 exponential, \n",
    "                 gamma, \n",
    "                 student, \n",
    "                 bernouli, \n",
    "                 poisson, \n",
    "                 geometric]\n",
    "metric_names = [\n",
    "    'Выборочная средняя', \n",
    "    'Дисперсия',\n",
    "    'Медиана', \n",
    "    'Мода', \n",
    "    'Ассиметрия (skewness)',\n",
    "    'Эксцесс (kurtosis)',\n",
    "    'Первый центральный момент',\n",
    "    'Второй центральный момент'\n",
    "]"
   ]
  },
  {
   "cell_type": "code",
   "execution_count": 116,
   "id": "88429037",
   "metadata": {},
   "outputs": [],
   "source": [
    "def characteristics(data, Print=False):\n",
    "    \n",
    "    df_1 = []\n",
    "    mean = round(data.mean(), 5)\n",
    "    var = round(np.var(data), 5)\n",
    "    median = round(np.median(data), 5)\n",
    "    mode = round(statistics.mode(data), 5)\n",
    "    skewness = round(skew(data), 5)\n",
    "    kurt = round(kurtosis(data), 5)\n",
    "    mom_1 = round(moment(data, moment=1), 5)\n",
    "    mom_2 = round(moment(data, moment=2), 5)\n",
    "    \n",
    "    df_1.append([mean, \n",
    "                var, \n",
    "                median, \n",
    "                mode, \n",
    "                skewness, \n",
    "                kurt, \n",
    "                mom_1, \n",
    "                mom_2])\n",
    "    \n",
    "    if Print:\n",
    "        print('Выборочная средняя:', round(data.mean(), 5))\n",
    "        print('Дисперсия:', round(np.var(data), 5))\n",
    "        print('Медиана:', round(np.median(data), 5))\n",
    "        print('Мода:', round(statistics.mode(data), 5))\n",
    "        print('Ассиметрия (skewness):', round(skew(data), 5))\n",
    "        print('Эксцесс (kurtosis):', round(kurtosis(data), 5))\n",
    "        print('Первый центральный момент:', round(moment(data, moment=1), 5))\n",
    "        print('Второй центральный момент:', round(moment(data, moment=2), 5))\n",
    "        \n",
    "    else:\n",
    "        return df_1[0]\n",
    "    "
   ]
  },
  {
   "cell_type": "code",
   "execution_count": 117,
   "id": "df75e9f0",
   "metadata": {},
   "outputs": [],
   "source": [
    "df = []\n",
    "for dist in distributions:\n",
    "    dist_list = characteristics(dist)\n",
    "    for value in dist_list:\n",
    "        df.append(value)  "
   ]
  },
  {
   "cell_type": "code",
   "execution_count": 118,
   "id": "8bf7420d",
   "metadata": {},
   "outputs": [
    {
     "data": {
      "text/html": [
       "<div>\n",
       "<style scoped>\n",
       "    .dataframe tbody tr th:only-of-type {\n",
       "        vertical-align: middle;\n",
       "    }\n",
       "\n",
       "    .dataframe tbody tr th {\n",
       "        vertical-align: top;\n",
       "    }\n",
       "\n",
       "    .dataframe thead th {\n",
       "        text-align: right;\n",
       "    }\n",
       "</style>\n",
       "<table border=\"1\" class=\"dataframe\">\n",
       "  <thead>\n",
       "    <tr style=\"text-align: right;\">\n",
       "      <th></th>\n",
       "      <th>Равномерное</th>\n",
       "      <th>Нормальное</th>\n",
       "      <th>Показательное</th>\n",
       "      <th>Гамма</th>\n",
       "      <th>Стьюдента</th>\n",
       "      <th>Бернулли</th>\n",
       "      <th>Пуассона</th>\n",
       "      <th>Геометрическое</th>\n",
       "    </tr>\n",
       "  </thead>\n",
       "  <tbody>\n",
       "    <tr>\n",
       "      <th>Выборочная средняя</th>\n",
       "      <td>0.49970</td>\n",
       "      <td>0.01452</td>\n",
       "      <td>2.07681</td>\n",
       "      <td>2.99325</td>\n",
       "      <td>-0.03378</td>\n",
       "      <td>0.49800</td>\n",
       "      <td>5.06400</td>\n",
       "      <td>1.99400</td>\n",
       "    </tr>\n",
       "    <tr>\n",
       "      <th>Дисперсия</th>\n",
       "      <td>0.08942</td>\n",
       "      <td>1.11592</td>\n",
       "      <td>4.15991</td>\n",
       "      <td>2.82580</td>\n",
       "      <td>1.28492</td>\n",
       "      <td>0.25000</td>\n",
       "      <td>5.15990</td>\n",
       "      <td>1.96596</td>\n",
       "    </tr>\n",
       "    <tr>\n",
       "      <th>Медиана</th>\n",
       "      <td>0.49964</td>\n",
       "      <td>0.04725</td>\n",
       "      <td>1.42946</td>\n",
       "      <td>2.68903</td>\n",
       "      <td>-0.02860</td>\n",
       "      <td>0.00000</td>\n",
       "      <td>5.00000</td>\n",
       "      <td>1.00000</td>\n",
       "    </tr>\n",
       "    <tr>\n",
       "      <th>Мода</th>\n",
       "      <td>0.52082</td>\n",
       "      <td>-0.15941</td>\n",
       "      <td>0.23194</td>\n",
       "      <td>2.97927</td>\n",
       "      <td>0.18948</td>\n",
       "      <td>0.00000</td>\n",
       "      <td>4.00000</td>\n",
       "      <td>1.00000</td>\n",
       "    </tr>\n",
       "    <tr>\n",
       "      <th>Ассиметрия (skewness)</th>\n",
       "      <td>-0.01817</td>\n",
       "      <td>-0.25128</td>\n",
       "      <td>1.96147</td>\n",
       "      <td>0.95694</td>\n",
       "      <td>-0.01744</td>\n",
       "      <td>0.00800</td>\n",
       "      <td>0.46148</td>\n",
       "      <td>1.95658</td>\n",
       "    </tr>\n",
       "    <tr>\n",
       "      <th>Эксцесс (kurtosis)</th>\n",
       "      <td>-1.26437</td>\n",
       "      <td>0.36812</td>\n",
       "      <td>5.56201</td>\n",
       "      <td>0.62490</td>\n",
       "      <td>1.15242</td>\n",
       "      <td>-1.99994</td>\n",
       "      <td>0.44901</td>\n",
       "      <td>4.67682</td>\n",
       "    </tr>\n",
       "    <tr>\n",
       "      <th>Первый центральный момент</th>\n",
       "      <td>0.00000</td>\n",
       "      <td>0.00000</td>\n",
       "      <td>0.00000</td>\n",
       "      <td>0.00000</td>\n",
       "      <td>0.00000</td>\n",
       "      <td>0.00000</td>\n",
       "      <td>0.00000</td>\n",
       "      <td>0.00000</td>\n",
       "    </tr>\n",
       "    <tr>\n",
       "      <th>Второй центральный момент</th>\n",
       "      <td>0.08942</td>\n",
       "      <td>1.11592</td>\n",
       "      <td>4.15991</td>\n",
       "      <td>2.82580</td>\n",
       "      <td>1.28492</td>\n",
       "      <td>0.25000</td>\n",
       "      <td>5.15990</td>\n",
       "      <td>1.96596</td>\n",
       "    </tr>\n",
       "  </tbody>\n",
       "</table>\n",
       "</div>"
      ],
      "text/plain": [
       "                           Равномерное  Нормальное  Показательное    Гамма  \\\n",
       "Выборочная средняя             0.49970     0.01452        2.07681  2.99325   \n",
       "Дисперсия                      0.08942     1.11592        4.15991  2.82580   \n",
       "Медиана                        0.49964     0.04725        1.42946  2.68903   \n",
       "Мода                           0.52082    -0.15941        0.23194  2.97927   \n",
       "Ассиметрия (skewness)         -0.01817    -0.25128        1.96147  0.95694   \n",
       "Эксцесс (kurtosis)            -1.26437     0.36812        5.56201  0.62490   \n",
       "Первый центральный момент      0.00000     0.00000        0.00000  0.00000   \n",
       "Второй центральный момент      0.08942     1.11592        4.15991  2.82580   \n",
       "\n",
       "                           Стьюдента  Бернулли  Пуассона  Геометрическое  \n",
       "Выборочная средняя          -0.03378   0.49800   5.06400         1.99400  \n",
       "Дисперсия                    1.28492   0.25000   5.15990         1.96596  \n",
       "Медиана                     -0.02860   0.00000   5.00000         1.00000  \n",
       "Мода                         0.18948   0.00000   4.00000         1.00000  \n",
       "Ассиметрия (skewness)       -0.01744   0.00800   0.46148         1.95658  \n",
       "Эксцесс (kurtosis)           1.15242  -1.99994   0.44901         4.67682  \n",
       "Первый центральный момент    0.00000   0.00000   0.00000         0.00000  \n",
       "Второй центральный момент    1.28492   0.25000   5.15990         1.96596  "
      ]
     },
     "metadata": {},
     "output_type": "display_data"
    }
   ],
   "source": [
    "total = pd.DataFrame(np.array(df).reshape(8, 8))\n",
    "total = total.rename(\n",
    "    index=dict(zip([i for i in range(0, len(dist_names))], dist_names)), \n",
    "    columns=(dict(zip([i for i in range(0, len(metric_names))], metric_names)))).T\n",
    "display(total)"
   ]
  },
  {
   "cell_type": "code",
   "execution_count": 119,
   "id": "f4264e51",
   "metadata": {},
   "outputs": [],
   "source": [
    "\n",
    "# The Shapiro-Wilk test tests the null hypothesis that the data was drawn from a normal distribution\n",
    "\n",
    "def pvalue_normal_dist(data: list, data_names: list) -> dict:\n",
    "    dict_pvalues = {}\n",
    "    for index, distribution in enumerate(data):\n",
    "        st = stats.shapiro(distribution)\n",
    "        dict_pvalues[data_names[index]] = st.pvalue\n",
    "    return dict_pvalues\n",
    "\n",
    "def check(pvalues: dict, alpha = 0.01) -> dict:\n",
    "    dict_check_normal = {}\n",
    "    for key, value in pvalues.items():\n",
    "        if value >= alpha:\n",
    "            normal_bool = True\n",
    "        else:\n",
    "            normal_bool = False\n",
    "        dict_check_normal[key] = normal_bool\n",
    "    return dict_check_normal\n",
    "\n",
    "normal_dist_pvalues = pvalue_normal_dist(distributions, dist_names)\n",
    "normal_check = check(\n",
    "    pvalues = normal_dist_pvalues,\n",
    "    alpha=0.01\n",
    ")\n",
    "\n",
    "normal_dist_pvalues = pd.Series(normal_dist_pvalues).to_frame(name='normal_pvalues').transpose()\n",
    "normal_check = pd.Series(normal_check).to_frame(name='normal_dist_alpha_0.01').transpose()\n",
    "total = pd.concat([total, normal_dist_pvalues, normal_check])"
   ]
  },
  {
   "cell_type": "code",
   "execution_count": 120,
   "id": "50bf0fd1",
   "metadata": {},
   "outputs": [],
   "source": [
    "# Исследование распределения на нормальность\n",
    "# Тест Колмогорова\n",
    "\n",
    "def pvalue_normal_dist_colm(data: list, data_names: list) -> dict:\n",
    "    dict_pvalues = {}\n",
    "    for index, distribution in enumerate(data):\n",
    "        st = stats.kstest(distribution,'norm')\n",
    "        dict_pvalues[data_names[index]] = st.pvalue\n",
    "    return dict_pvalues\n",
    "\n",
    "normal_dist_colm_pvalues = pvalue_normal_dist_colm(distributions, dist_names)\n",
    "normal_check_colm = check(\n",
    "    pvalues = normal_dist_colm_pvalues,\n",
    "    alpha=0.01\n",
    ")\n",
    "\n",
    "normal_dist_colm_pvalues = pd.Series(normal_dist_colm_pvalues).to_frame(name='normal_colm_pvalues').transpose()\n",
    "normal_check_colm = pd.Series(normal_check_colm).to_frame(name='normal_dist_colm_alpha_0.01').transpose()\n",
    "total = pd.concat([total, normal_dist_colm_pvalues, normal_check_colm])"
   ]
  },
  {
   "cell_type": "code",
   "execution_count": 121,
   "id": "d3a884b5",
   "metadata": {},
   "outputs": [],
   "source": [
    "# The two-sample Kolmogorov-Smirnov\n",
    "#The null hypothesis is that the two distributions are identical, the alternative is that they are not identical\n",
    "def pvalue_uniformity_with_normal(data: list, data_names: list) -> dict:\n",
    "    dict_pvalues = {}\n",
    "    for index, distribution in enumerate(data):\n",
    "        st = stats.ks_2samp(distribution, data[1])\n",
    "        dict_pvalues[data_names[index]] = st.pvalue\n",
    "    return dict_pvalues\n",
    "\n",
    "uniformity_pvalue = pvalue_uniformity_with_normal(distributions, dist_names)\n",
    "uniformity_check = check(\n",
    "    pvalues = uniformity_pvalue,\n",
    "    alpha=0.01\n",
    ")\n",
    "\n",
    "uniformity_pvalue = pd.Series(uniformity_pvalue).to_frame(name='uniformity_with_normal_pvalues').transpose()\n",
    "uniformity_check = pd.Series(uniformity_check).to_frame(name='uniformity_with_normal_alpha_0.01').transpose()\n",
    "\n",
    "total = pd.concat([total, uniformity_pvalue, uniformity_check])"
   ]
  },
  {
   "cell_type": "code",
   "execution_count": 122,
   "id": "fbe63be6",
   "metadata": {},
   "outputs": [],
   "source": [
    "# The chi-square test tests the null hypothesis that the categorical data has the given frequencies.\n",
    "# привожу пример теста Хи квадрат для проверки, что\n",
    "# одинакова ли частота попадания в интервал >= 0 и интервал < 0\n",
    "# сравнивать буду с нормальным сгенерированным распределением.\n",
    "\n",
    "def pvalue_hi2_with_normal(data: list, data_names: list) -> dict:\n",
    "    dict_pvalues = {}\n",
    "    for index, distribution in enumerate(data):\n",
    "        st = stats.chisquare(\n",
    "            f_obs=[\n",
    "                len([x for x in distribution if x < 0]),\n",
    "                len([x for x in distribution if x >= 0])\n",
    "            ],\n",
    "            f_exp=[\n",
    "                len([x for x in data[1] if x < 0]),\n",
    "                len([x for x in data[1] if x >= 0])\n",
    "            ],\n",
    "        )                \n",
    "        dict_pvalues[data_names[index]] = st.pvalue\n",
    "    return dict_pvalues\n",
    "\n",
    "hi2_pvalue = pvalue_hi2_with_normal(distributions, dist_names)\n",
    "hi2_check = check(\n",
    "    pvalues = hi2_pvalue,\n",
    "    alpha=0.01\n",
    ")\n",
    "\n",
    "hi2_pvalue = pd.Series(hi2_pvalue).to_frame(name='hi2_with_normal_pvalues').transpose()\n",
    "hi2_check = pd.Series(hi2_check).to_frame(name='hi2_with_normal_alpha_0.01').transpose()\n",
    "\n",
    "total = pd.concat([total, hi2_pvalue, hi2_check])"
   ]
  },
  {
   "cell_type": "code",
   "execution_count": 123,
   "id": "f43b527e",
   "metadata": {},
   "outputs": [],
   "source": [
    "# the Mann–Whitney U test is a nonparametric test of the null hypothesis that,\n",
    "# for randomly selected values X and Y from two populations,\n",
    "# the probability of X being greater than Y is equal to the probability of Y being greater than X.\n",
    "# Сравниваю все распределения с нормальным\n",
    "\n",
    "def pvalue_mean_eqaul_with_normal(data: list, data_names: list) -> dict:\n",
    "    dict_pvalues = {}\n",
    "    for index, distribution in enumerate(data):\n",
    "        st = stats.mannwhitneyu(distribution, data[1])\n",
    "        dict_pvalues[data_names[index]] = st.pvalue\n",
    "    return dict_pvalues\n",
    "\n",
    "mean_eqaul_pvalue = pvalue_mean_eqaul_with_normal(distributions, dist_names)\n",
    "mean_eqaul_check = check(\n",
    "    pvalues = mean_eqaul_pvalue,\n",
    "    alpha=0.01\n",
    ")\n",
    "\n",
    "mean_eqaul_pvalue = pd.Series(mean_eqaul_pvalue).to_frame(name='mean_eqaul_with_normal_pvalues').transpose()\n",
    "mean_eqaul_check = pd.Series(mean_eqaul_check).to_frame(name='mean_eqaul_with_normal_alpha_0.01').transpose()\n",
    "\n",
    "total = pd.concat([total, mean_eqaul_pvalue, mean_eqaul_check])"
   ]
  },
  {
   "cell_type": "code",
   "execution_count": 124,
   "id": "b4862a28",
   "metadata": {},
   "outputs": [
    {
     "data": {
      "text/html": [
       "<div>\n",
       "<style scoped>\n",
       "    .dataframe tbody tr th:only-of-type {\n",
       "        vertical-align: middle;\n",
       "    }\n",
       "\n",
       "    .dataframe tbody tr th {\n",
       "        vertical-align: top;\n",
       "    }\n",
       "\n",
       "    .dataframe thead th {\n",
       "        text-align: right;\n",
       "    }\n",
       "</style>\n",
       "<table border=\"1\" class=\"dataframe\">\n",
       "  <thead>\n",
       "    <tr style=\"text-align: right;\">\n",
       "      <th></th>\n",
       "      <th>normal_pvalues</th>\n",
       "      <th>normal_dist_alpha_0.01</th>\n",
       "      <th>normal_colm_pvalues</th>\n",
       "      <th>normal_dist_colm_alpha_0.01</th>\n",
       "      <th>uniformity_with_normal_pvalues</th>\n",
       "      <th>uniformity_with_normal_alpha_0.01</th>\n",
       "      <th>hi2_with_normal_pvalues</th>\n",
       "      <th>hi2_with_normal_alpha_0.01</th>\n",
       "      <th>mean_eqaul_with_normal_pvalues</th>\n",
       "      <th>mean_eqaul_with_normal_alpha_0.01</th>\n",
       "    </tr>\n",
       "  </thead>\n",
       "  <tbody>\n",
       "    <tr>\n",
       "      <th>Равномерное</th>\n",
       "      <td>1.871929e-12</td>\n",
       "      <td>False</td>\n",
       "      <td>1.983135e-116</td>\n",
       "      <td>False</td>\n",
       "      <td>1.955989e-53</td>\n",
       "      <td>False</td>\n",
       "      <td>5.309620e-104</td>\n",
       "      <td>False</td>\n",
       "      <td>3.069670e-20</td>\n",
       "      <td>False</td>\n",
       "    </tr>\n",
       "    <tr>\n",
       "      <th>Нормальное</th>\n",
       "      <td>4.512694e-02</td>\n",
       "      <td>True</td>\n",
       "      <td>6.921771e-01</td>\n",
       "      <td>True</td>\n",
       "      <td>1.000000e+00</td>\n",
       "      <td>True</td>\n",
       "      <td>1.000000e+00</td>\n",
       "      <td>True</td>\n",
       "      <td>4.999563e-01</td>\n",
       "      <td>True</td>\n",
       "    </tr>\n",
       "    <tr>\n",
       "      <th>Показательное</th>\n",
       "      <td>2.480319e-23</td>\n",
       "      <td>False</td>\n",
       "      <td>3.012651e-119</td>\n",
       "      <td>False</td>\n",
       "      <td>3.933574e-58</td>\n",
       "      <td>False</td>\n",
       "      <td>5.309620e-104</td>\n",
       "      <td>False</td>\n",
       "      <td>1.274418e-81</td>\n",
       "      <td>False</td>\n",
       "    </tr>\n",
       "    <tr>\n",
       "      <th>Гамма</th>\n",
       "      <td>6.016037e-14</td>\n",
       "      <td>False</td>\n",
       "      <td>3.379867e-316</td>\n",
       "      <td>False</td>\n",
       "      <td>1.190576e-143</td>\n",
       "      <td>False</td>\n",
       "      <td>5.309620e-104</td>\n",
       "      <td>False</td>\n",
       "      <td>2.160765e-140</td>\n",
       "      <td>False</td>\n",
       "    </tr>\n",
       "    <tr>\n",
       "      <th>Стьюдента</th>\n",
       "      <td>9.389844e-04</td>\n",
       "      <td>False</td>\n",
       "      <td>5.163249e-01</td>\n",
       "      <td>True</td>\n",
       "      <td>8.636767e-01</td>\n",
       "      <td>True</td>\n",
       "      <td>3.708483e-01</td>\n",
       "      <td>True</td>\n",
       "      <td>2.171465e-01</td>\n",
       "      <td>True</td>\n",
       "    </tr>\n",
       "    <tr>\n",
       "      <th>Бернулли</th>\n",
       "      <td>3.549133e-31</td>\n",
       "      <td>False</td>\n",
       "      <td>4.113280e-116</td>\n",
       "      <td>False</td>\n",
       "      <td>1.955989e-53</td>\n",
       "      <td>False</td>\n",
       "      <td>5.309620e-104</td>\n",
       "      <td>False</td>\n",
       "      <td>2.848267e-18</td>\n",
       "      <td>False</td>\n",
       "    </tr>\n",
       "    <tr>\n",
       "      <th>Пуассона</th>\n",
       "      <td>1.552798e-08</td>\n",
       "      <td>False</td>\n",
       "      <td>0.000000e+00</td>\n",
       "      <td>False</td>\n",
       "      <td>4.996712e-238</td>\n",
       "      <td>False</td>\n",
       "      <td>5.309620e-104</td>\n",
       "      <td>False</td>\n",
       "      <td>6.593891e-157</td>\n",
       "      <td>False</td>\n",
       "    </tr>\n",
       "    <tr>\n",
       "      <th>Геометрическое</th>\n",
       "      <td>7.992740e-28</td>\n",
       "      <td>False</td>\n",
       "      <td>0.000000e+00</td>\n",
       "      <td>False</td>\n",
       "      <td>7.083969e-174</td>\n",
       "      <td>False</td>\n",
       "      <td>5.309620e-104</td>\n",
       "      <td>False</td>\n",
       "      <td>3.886067e-112</td>\n",
       "      <td>False</td>\n",
       "    </tr>\n",
       "  </tbody>\n",
       "</table>\n",
       "</div>"
      ],
      "text/plain": [
       "                normal_pvalues  normal_dist_alpha_0.01  normal_colm_pvalues  \\\n",
       "Равномерное       1.871929e-12                   False        1.983135e-116   \n",
       "Нормальное        4.512694e-02                    True         6.921771e-01   \n",
       "Показательное     2.480319e-23                   False        3.012651e-119   \n",
       "Гамма             6.016037e-14                   False        3.379867e-316   \n",
       "Стьюдента         9.389844e-04                   False         5.163249e-01   \n",
       "Бернулли          3.549133e-31                   False        4.113280e-116   \n",
       "Пуассона          1.552798e-08                   False         0.000000e+00   \n",
       "Геометрическое    7.992740e-28                   False         0.000000e+00   \n",
       "\n",
       "                normal_dist_colm_alpha_0.01  uniformity_with_normal_pvalues  \\\n",
       "Равномерное                           False                    1.955989e-53   \n",
       "Нормальное                             True                    1.000000e+00   \n",
       "Показательное                         False                    3.933574e-58   \n",
       "Гамма                                 False                   1.190576e-143   \n",
       "Стьюдента                              True                    8.636767e-01   \n",
       "Бернулли                              False                    1.955989e-53   \n",
       "Пуассона                              False                   4.996712e-238   \n",
       "Геометрическое                        False                   7.083969e-174   \n",
       "\n",
       "                uniformity_with_normal_alpha_0.01  hi2_with_normal_pvalues  \\\n",
       "Равномерное                                 False            5.309620e-104   \n",
       "Нормальное                                   True             1.000000e+00   \n",
       "Показательное                               False            5.309620e-104   \n",
       "Гамма                                       False            5.309620e-104   \n",
       "Стьюдента                                    True             3.708483e-01   \n",
       "Бернулли                                    False            5.309620e-104   \n",
       "Пуассона                                    False            5.309620e-104   \n",
       "Геометрическое                              False            5.309620e-104   \n",
       "\n",
       "                hi2_with_normal_alpha_0.01  mean_eqaul_with_normal_pvalues  \\\n",
       "Равномерное                          False                    3.069670e-20   \n",
       "Нормальное                            True                    4.999563e-01   \n",
       "Показательное                        False                    1.274418e-81   \n",
       "Гамма                                False                   2.160765e-140   \n",
       "Стьюдента                             True                    2.171465e-01   \n",
       "Бернулли                             False                    2.848267e-18   \n",
       "Пуассона                             False                   6.593891e-157   \n",
       "Геометрическое                       False                   3.886067e-112   \n",
       "\n",
       "                mean_eqaul_with_normal_alpha_0.01  \n",
       "Равномерное                                 False  \n",
       "Нормальное                                   True  \n",
       "Показательное                               False  \n",
       "Гамма                                       False  \n",
       "Стьюдента                                    True  \n",
       "Бернулли                                    False  \n",
       "Пуассона                                    False  \n",
       "Геометрическое                              False  "
      ]
     },
     "execution_count": 124,
     "metadata": {},
     "output_type": "execute_result"
    }
   ],
   "source": [
    "total.transpose()[['normal_pvalues',\n",
    "       'normal_dist_alpha_0.01', 'normal_colm_pvalues',\n",
    "       'normal_dist_colm_alpha_0.01', 'uniformity_with_normal_pvalues',\n",
    "       'uniformity_with_normal_alpha_0.01', 'hi2_with_normal_pvalues',\n",
    "       'hi2_with_normal_alpha_0.01', 'mean_eqaul_with_normal_pvalues',\n",
    "       'mean_eqaul_with_normal_alpha_0.01']].astype(\n",
    "    {'normal_dist_alpha_0.01': 'bool',\n",
    "     'normal_dist_colm_alpha_0.01': 'bool',\n",
    "     'uniformity_with_normal_alpha_0.01': 'bool',\n",
    "     'hi2_with_normal_alpha_0.01': 'bool',\n",
    "     'mean_eqaul_with_normal_alpha_0.01': 'bool',\n",
    "    })"
   ]
  },
  {
   "cell_type": "markdown",
   "id": "532cd8dd",
   "metadata": {},
   "source": [
    "- Тест Шапиро-Уилка, нормально распределено только нормальное сгенерированное распределение на aplha=0.01.\n",
    "- Критерий Колмогорова, нормально распределено только нормальное сгенерированное распределение на aplha=0.01.\n",
    "- Критерий Колмогорова-Смирнова, однородность с нормальным сгенерированным распределение наблюдается у распределения Стьюдента на aplha=0.01.\n",
    "- Критерий Хи^2 показал, что гипотеза о равенстве частоты положительных и отрицательных значений по сравнению с нормальным распределением равно распределению Стьюдента на aplha=0.01.\n",
    "- Непараметрический тест Манни-Уитни показал равенство среднего по сравнению с нормальным распределение у распределения Стьюдента."
   ]
  },
  {
   "cell_type": "markdown",
   "id": "8701bc14",
   "metadata": {},
   "source": [
    "# Данные по короновирусу"
   ]
  },
  {
   "cell_type": "code",
   "execution_count": 126,
   "id": "147376a8",
   "metadata": {},
   "outputs": [],
   "source": [
    "# change your path!\n",
    "df=pd.read_excel('/your_path/Tablitsa_2021-09-28_03-24.xlsx',index_col=0)"
   ]
  },
  {
   "cell_type": "code",
   "execution_count": 212,
   "id": "dbaecd57",
   "metadata": {},
   "outputs": [
    {
     "data": {
      "text/html": [
       "<div>\n",
       "<style scoped>\n",
       "    .dataframe tbody tr th:only-of-type {\n",
       "        vertical-align: middle;\n",
       "    }\n",
       "\n",
       "    .dataframe tbody tr th {\n",
       "        vertical-align: top;\n",
       "    }\n",
       "\n",
       "    .dataframe thead th {\n",
       "        text-align: right;\n",
       "    }\n",
       "</style>\n",
       "<table border=\"1\" class=\"dataframe\">\n",
       "  <thead>\n",
       "    <tr style=\"text-align: right;\">\n",
       "      <th></th>\n",
       "      <th>Заражений</th>\n",
       "      <th>Выздоровлений</th>\n",
       "      <th>Смертей</th>\n",
       "      <th>Смертей за день</th>\n",
       "      <th>Заражений за день</th>\n",
       "      <th>Выздоровлений за день</th>\n",
       "    </tr>\n",
       "  </thead>\n",
       "  <tbody>\n",
       "    <tr>\n",
       "      <th>count</th>\n",
       "      <td>4.800800e+04</td>\n",
       "      <td>4.800800e+04</td>\n",
       "      <td>48008.000000</td>\n",
       "      <td>48008.000000</td>\n",
       "      <td>48008.000000</td>\n",
       "      <td>48008.000000</td>\n",
       "    </tr>\n",
       "    <tr>\n",
       "      <th>mean</th>\n",
       "      <td>3.519369e+04</td>\n",
       "      <td>3.069263e+04</td>\n",
       "      <td>787.563302</td>\n",
       "      <td>4.263435</td>\n",
       "      <td>155.039764</td>\n",
       "      <td>137.854462</td>\n",
       "    </tr>\n",
       "    <tr>\n",
       "      <th>std</th>\n",
       "      <td>1.037055e+05</td>\n",
       "      <td>9.226223e+04</td>\n",
       "      <td>2110.420664</td>\n",
       "      <td>9.166762</td>\n",
       "      <td>428.168630</td>\n",
       "      <td>402.234873</td>\n",
       "    </tr>\n",
       "    <tr>\n",
       "      <th>min</th>\n",
       "      <td>0.000000e+00</td>\n",
       "      <td>0.000000e+00</td>\n",
       "      <td>0.000000</td>\n",
       "      <td>0.000000</td>\n",
       "      <td>-1.000000</td>\n",
       "      <td>0.000000</td>\n",
       "    </tr>\n",
       "    <tr>\n",
       "      <th>25%</th>\n",
       "      <td>4.333000e+03</td>\n",
       "      <td>3.028000e+03</td>\n",
       "      <td>37.000000</td>\n",
       "      <td>0.000000</td>\n",
       "      <td>33.000000</td>\n",
       "      <td>18.000000</td>\n",
       "    </tr>\n",
       "    <tr>\n",
       "      <th>50%</th>\n",
       "      <td>1.646600e+04</td>\n",
       "      <td>1.398450e+04</td>\n",
       "      <td>214.000000</td>\n",
       "      <td>1.000000</td>\n",
       "      <td>79.000000</td>\n",
       "      <td>61.000000</td>\n",
       "    </tr>\n",
       "    <tr>\n",
       "      <th>75%</th>\n",
       "      <td>3.775150e+04</td>\n",
       "      <td>3.445675e+04</td>\n",
       "      <td>728.000000</td>\n",
       "      <td>5.000000</td>\n",
       "      <td>159.000000</td>\n",
       "      <td>136.000000</td>\n",
       "    </tr>\n",
       "    <tr>\n",
       "      <th>max</th>\n",
       "      <td>1.624377e+06</td>\n",
       "      <td>1.483976e+06</td>\n",
       "      <td>28790.000000</td>\n",
       "      <td>124.000000</td>\n",
       "      <td>9120.000000</td>\n",
       "      <td>8033.000000</td>\n",
       "    </tr>\n",
       "  </tbody>\n",
       "</table>\n",
       "</div>"
      ],
      "text/plain": [
       "          Заражений  Выздоровлений       Смертей  Смертей за день  \\\n",
       "count  4.800800e+04   4.800800e+04  48008.000000     48008.000000   \n",
       "mean   3.519369e+04   3.069263e+04    787.563302         4.263435   \n",
       "std    1.037055e+05   9.226223e+04   2110.420664         9.166762   \n",
       "min    0.000000e+00   0.000000e+00      0.000000         0.000000   \n",
       "25%    4.333000e+03   3.028000e+03     37.000000         0.000000   \n",
       "50%    1.646600e+04   1.398450e+04    214.000000         1.000000   \n",
       "75%    3.775150e+04   3.445675e+04    728.000000         5.000000   \n",
       "max    1.624377e+06   1.483976e+06  28790.000000       124.000000   \n",
       "\n",
       "       Заражений за день  Выздоровлений за день  \n",
       "count       48008.000000           48008.000000  \n",
       "mean          155.039764             137.854462  \n",
       "std           428.168630             402.234873  \n",
       "min            -1.000000               0.000000  \n",
       "25%            33.000000              18.000000  \n",
       "50%            79.000000              61.000000  \n",
       "75%           159.000000             136.000000  \n",
       "max          9120.000000            8033.000000  "
      ]
     },
     "execution_count": 212,
     "metadata": {},
     "output_type": "execute_result"
    }
   ],
   "source": [
    "df.describe()"
   ]
  },
  {
   "cell_type": "code",
   "execution_count": 127,
   "id": "a6329cf5",
   "metadata": {},
   "outputs": [],
   "source": [
    "df.index =pd.to_datetime(df.index)\n",
    "df.sort_values(by=['Регион','Дата'],inplace=True,ascending=[1,1])"
   ]
  },
  {
   "cell_type": "code",
   "execution_count": 128,
   "id": "a3c48486",
   "metadata": {},
   "outputs": [],
   "source": [
    "example = df[df['Регион'] == 'Адыгея']\n",
    "example.sort_values(by=['Дата'],ascending=[1])"
   ]
  },
  {
   "cell_type": "code",
   "execution_count": 186,
   "id": "04718f05",
   "metadata": {},
   "outputs": [],
   "source": [
    "real=list(example['Заражений за день'])\n",
    "real=[np.asarray(real)]"
   ]
  },
  {
   "cell_type": "markdown",
   "id": "f2c59ae4",
   "metadata": {},
   "source": [
    "Проверим нормальнойсть реальных данных с помощью теста Шапиро-Уилка и Колмогорова-Смирнова"
   ]
  },
  {
   "cell_type": "code",
   "execution_count": 187,
   "id": "9ee1c832",
   "metadata": {},
   "outputs": [],
   "source": [
    "names=['Заражений за день в Адыгее']"
   ]
  },
  {
   "cell_type": "code",
   "execution_count": 190,
   "id": "342bfcca",
   "metadata": {},
   "outputs": [],
   "source": [
    "normal_dist_pvalues = pvalue_normal_dist(real, names)\n",
    "normal_check = check(\n",
    "    pvalues = normal_dist_pvalues,\n",
    "    alpha=0.01\n",
    ")\n",
    "total_real=pd.DataFrame()\n",
    "normal_dist_pvalues = pd.Series(normal_dist_pvalues).to_frame(name='normal_pvalues').transpose()\n",
    "normal_check = pd.Series(normal_check).to_frame(name='normal_dist_alpha_0.01').transpose()\n",
    "total_real = pd.concat([total_real, normal_dist_pvalues, normal_check])\n",
    "\n",
    "\n",
    "normal_dist_colm_pvalues = pvalue_normal_dist_colm(real, names)\n",
    "normal_check_colm = check(\n",
    "    pvalues = normal_dist_colm_pvalues,\n",
    "    alpha=0.01\n",
    ")\n",
    "normal_dist_colm_pvalues = pd.Series(normal_dist_colm_pvalues).to_frame(name='normal_colm_pvalues').transpose()\n",
    "normal_check_colm = pd.Series(normal_check_colm).to_frame(name='normal_dist_colm_alpha_0.01').transpose()\n",
    "total = pd.concat([total_real, normal_dist_colm_pvalues, normal_check_colm])\n"
   ]
  },
  {
   "cell_type": "code",
   "execution_count": 191,
   "id": "ba0596f2",
   "metadata": {},
   "outputs": [
    {
     "data": {
      "text/html": [
       "<div>\n",
       "<style scoped>\n",
       "    .dataframe tbody tr th:only-of-type {\n",
       "        vertical-align: middle;\n",
       "    }\n",
       "\n",
       "    .dataframe tbody tr th {\n",
       "        vertical-align: top;\n",
       "    }\n",
       "\n",
       "    .dataframe thead th {\n",
       "        text-align: right;\n",
       "    }\n",
       "</style>\n",
       "<table border=\"1\" class=\"dataframe\">\n",
       "  <thead>\n",
       "    <tr style=\"text-align: right;\">\n",
       "      <th></th>\n",
       "      <th>Заражений за день в Адыгее</th>\n",
       "    </tr>\n",
       "  </thead>\n",
       "  <tbody>\n",
       "    <tr>\n",
       "      <th>normal_pvalues</th>\n",
       "      <td>5.741370e-17</td>\n",
       "    </tr>\n",
       "    <tr>\n",
       "      <th>normal_dist_alpha_0.01</th>\n",
       "      <td>0.000000e+00</td>\n",
       "    </tr>\n",
       "    <tr>\n",
       "      <th>normal_colm_pvalues</th>\n",
       "      <td>0.000000e+00</td>\n",
       "    </tr>\n",
       "    <tr>\n",
       "      <th>normal_dist_colm_alpha_0.01</th>\n",
       "      <td>0.000000e+00</td>\n",
       "    </tr>\n",
       "  </tbody>\n",
       "</table>\n",
       "</div>"
      ],
      "text/plain": [
       "                             Заражений за день в Адыгее\n",
       "normal_pvalues                             5.741370e-17\n",
       "normal_dist_alpha_0.01                     0.000000e+00\n",
       "normal_colm_pvalues                        0.000000e+00\n",
       "normal_dist_colm_alpha_0.01                0.000000e+00"
      ]
     },
     "execution_count": 191,
     "metadata": {},
     "output_type": "execute_result"
    }
   ],
   "source": [
    "total"
   ]
  },
  {
   "cell_type": "markdown",
   "id": "3e8a5ce1",
   "metadata": {},
   "source": [
    "Нулевая гипотеза отклоняется, распределение нельзя считать нормальным на 1% уровне значимости"
   ]
  },
  {
   "cell_type": "code",
   "execution_count": 195,
   "id": "f6b95498",
   "metadata": {},
   "outputs": [],
   "source": [
    "real=pd.DataFrame(example['Заражений за день'])"
   ]
  },
  {
   "cell_type": "code",
   "execution_count": 200,
   "id": "6fa1fc76",
   "metadata": {},
   "outputs": [
    {
     "data": {
      "image/png": "[encoded data removed]",
      "text/plain": [
       "<Figure size 432x288 with 1 Axes>"
      ]
     },
     "metadata": {
      "needs_background": "light"
     },
     "output_type": "display_data"
    }
   ],
   "source": [
    "stats.probplot(real['Заражений за день'], dist=\"norm\", plot=pylab)\n",
    "pylab.show()"
   ]
  },
  {
   "cell_type": "markdown",
   "id": "4c1f6f63",
   "metadata": {},
   "source": [
    "Q-Q plot это ясно визуализирует. Имеется тяжелый левый хвост"
   ]
  },
  {
   "cell_type": "code",
   "execution_count": 202,
   "id": "2dc9912d",
   "metadata": {},
   "outputs": [
    {
     "data": {
      "text/plain": [
       "<AxesSubplot:>"
      ]
     },
     "execution_count": 202,
     "metadata": {},
     "output_type": "execute_result"
    },
    {
     "data": {
      "image/png": "[encoded data removed]",
      "text/plain": [
       "<Figure size 432x288 with 1 Axes>"
      ]
     },
     "metadata": {
      "needs_background": "light"
     },
     "output_type": "display_data"
    }
   ],
   "source": [
    "example['Заражений за день'].hist()"
   ]
  },
  {
   "cell_type": "markdown",
   "id": "186a3bec",
   "metadata": {},
   "source": [
    "Проведем проверку на стационарность с помощью теста Дики-Фуллера."
   ]
  },
  {
   "cell_type": "code",
   "execution_count": 203,
   "id": "343ba660",
   "metadata": {},
   "outputs": [
    {
     "name": "stdout",
     "output_type": "stream",
     "text": [
      "adf:  -3.8965209072328375\n",
      "p-value:  0.0020606010292067464\n",
      "Critical values:  {'1%': -3.4421660928041633, '5%': -2.8667523104859627, '10%': -2.56954599309042}\n",
      "единичных корней нет, ряд стационарен\n"
     ]
    }
   ],
   "source": [
    "import statsmodels.api as sm\n",
    "test = sm.tsa.adfuller(example['Заражений за день'])\n",
    "print ('adf: ', test[0])\n",
    "print ('p-value: ', test[1])\n",
    "print ('Critical values: ', test[4])\n",
    "if test[0]> test[4]['5%']: \n",
    "    print ('есть единичные корни, ряд не стационарен')\n",
    "else:\n",
    "    print ('единичных корней нет, ряд стационарен')"
   ]
  },
  {
   "cell_type": "code",
   "execution_count": 208,
   "id": "6d91a525",
   "metadata": {},
   "outputs": [],
   "source": [
    "example_2 = df[df['Регион'] == 'Нижегородская обл.']\n",
    "example_2.sort_values(by=['Дата'],ascending=[1])\n",
    "real_2=pd.DataFrame(example_2['Заражений за день'])"
   ]
  },
  {
   "cell_type": "markdown",
   "id": "d15fde94",
   "metadata": {},
   "source": [
    "Так как распределение не является нормальным, в дальнейшем для проверки равенства дисперсий будем использовать тест Левена, который менее чувствителен к отклонению распределения от нормального. С помощью теста Левена сравним равенство дисперсий распределений заражений за день в Адыгее и Нижегородской области."
   ]
  },
  {
   "cell_type": "code",
   "execution_count": 209,
   "id": "30e4100e",
   "metadata": {},
   "outputs": [
    {
     "name": "stdout",
     "output_type": "stream",
     "text": [
      "Variances of distributions is not equal\n",
      "\n"
     ]
    }
   ],
   "source": [
    "import numpy as np\n",
    "from scipy.stats import levene\n",
    "alpha = 0.01\n",
    "\n",
    "def levene_test(df1, df2, p_value = alpha):\n",
    "    st = levene(df1, df2)\n",
    "    print('Variances of distributions is {}equal\\n'.format( {True:'not ',False:''}[st[1] < p_value]))\n",
    "    \n",
    "levene_test(real['Заражений за день'], real_2['Заражений за день'])"
   ]
  },
  {
   "cell_type": "markdown",
   "id": "9fc731a6",
   "metadata": {},
   "source": [
    "По критерию Левена на 1% уровне значимости дисперсии двух выборок нельзя признать равными"
   ]
  },
  {
   "cell_type": "code",
   "execution_count": 211,
   "id": "75c67643",
   "metadata": {},
   "outputs": [
    {
     "data": {
      "image/png": "[encoded data removed]",
      "text/plain": [
       "<Figure size 1080x360 with 1 Axes>"
      ]
     },
     "metadata": {
      "needs_background": "light"
     },
     "output_type": "display_data"
    }
   ],
   "source": [
    "plt.figure(figsize=(15,5))\n",
    "plt.boxplot([real['Заражений за день'], real_2['Заражений за день']])\n",
    "x = np.arange(1,3)\n",
    "plt.xticks(x, ('Адыгея', 'Нижегородская область'))\n",
    "plt.show()"
   ]
  },
  {
   "cell_type": "markdown",
   "id": "aa24d335",
   "metadata": {},
   "source": [
    "Среднее число заражений за день в России 155. Равно ли оно среднему в Нижегородской области."
   ]
  },
  {
   "cell_type": "code",
   "execution_count": 214,
   "id": "39b9f576",
   "metadata": {},
   "outputs": [
    {
     "data": {
      "text/plain": [
       "Ttest_1sampResult(statistic=21.594003449495037, pvalue=7.982898358986297e-76)"
      ]
     },
     "execution_count": 214,
     "metadata": {},
     "output_type": "execute_result"
    }
   ],
   "source": [
    "stats.ttest_1samp(real_2['Заражений за день'], 155)"
   ]
  },
  {
   "cell_type": "markdown",
   "id": "7c20340c",
   "metadata": {},
   "source": [
    "Мы видим, что нулевая гипотеза о равенстве среднего по России среднему в Нижегородской области отклонена"
   ]
  },
  {
   "cell_type": "code",
   "execution_count": 219,
   "id": "b6dd7ade",
   "metadata": {},
   "outputs": [
    {
     "name": "stdout",
     "output_type": "stream",
     "text": [
      "2.8362714368256813e-103\n"
     ]
    }
   ],
   "source": [
    "from scipy.stats import spearmanr\n",
    "corr, p = spearmanr(real['Заражений за день'], real_2['Заражений за день'])\n",
    "print(p)"
   ]
  },
  {
   "cell_type": "markdown",
   "id": "c7df87a5",
   "metadata": {},
   "source": [
    "Из теста на корреляцию Спирмена мы отклоняем нулевую гипотезу, что распределения независимы. Проверим значимо ли они отличаются с помощью парного t критерия"
   ]
  },
  {
   "cell_type": "code",
   "execution_count": 220,
   "id": "e734a05e",
   "metadata": {},
   "outputs": [
    {
     "name": "stdout",
     "output_type": "stream",
     "text": [
      "7.560973764365307e-190\n"
     ]
    }
   ],
   "source": [
    "from scipy.stats import ttest_rel\n",
    "stat, p = ttest_rel(real['Заражений за день'], real_2['Заражений за день'])\n",
    "print(p)"
   ]
  },
  {
   "cell_type": "markdown",
   "id": "31178cfb",
   "metadata": {},
   "source": [
    "нулевая гипотеза, что выборки статистически не отличаются отклонена"
   ]
  },
  {
   "cell_type": "code",
   "execution_count": null,
   "id": "9db4e8fd",
   "metadata": {},
   "outputs": [],
   "source": []
  }
 ],
 "metadata": {
  "kernelspec": {
   "display_name": "Python 3",
   "language": "python",
   "name": "python3"
  },
  "language_info": {
   "codemirror_mode": {
    "name": "ipython",
    "version": 3
   },
   "file_extension": ".py",
   "mimetype": "text/x-python",
   "name": "python",
   "nbconvert_exporter": "python",
   "pygments_lexer": "ipython3",
   "version": "3.8.8"
  },
  "latex_envs": {
   "LaTeX_envs_menu_present": true,
   "autoclose": false,
   "autocomplete": true,
   "bibliofile": "biblio.bib",
   "cite_by": "apalike",
   "current_citInitial": 1,
   "eqLabelWithNumbers": true,
   "eqNumInitial": 1,
   "hotkeys": {
    "equation": "Ctrl-E",
    "itemize": "Ctrl-I"
   },
   "labels_anchors": false,
   "latex_user_defs": false,
   "report_style_numbering": false,
   "user_envs_cfg": false
  },
  "toc": {
   "base_numbering": 1,
   "nav_menu": {},
   "number_sections": true,
   "sideBar": true,
   "skip_h1_title": false,
   "title_cell": "Table of Contents",
   "title_sidebar": "Contents",
   "toc_cell": false,
   "toc_position": {},
   "toc_section_display": true,
   "toc_window_display": false
  },
  "varInspector": {
   "cols": {
    "lenName": 16,
    "lenType": 16,
    "lenVar": 40
   },
   "kernels_config": {
    "python": {
     "delete_cmd_postfix": "",
     "delete_cmd_prefix": "del ",
     "library": "var_list.py",
     "varRefreshCmd": "print(var_dic_list())"
    },
    "r": {
     "delete_cmd_postfix": ") ",
     "delete_cmd_prefix": "rm(",
     "library": "var_list.r",
     "varRefreshCmd": "cat(var_dic_list()) "
    }
   },
   "types_to_exclude": [
    "module",
    "function",
    "builtin_function_or_method",
    "instance",
    "_Feature"
   ],
   "window_display": false
  }
 },
 "nbformat": 4,
 "nbformat_minor": 5
}
